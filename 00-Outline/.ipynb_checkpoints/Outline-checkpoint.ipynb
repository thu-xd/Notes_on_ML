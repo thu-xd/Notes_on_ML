{
 "cells": [
  {
   "cell_type": "markdown",
   "metadata": {},
   "source": [
    "<h1><center> Outline</center></h1>\n",
    "# $\\S$Basic\n",
    "* 01-[Introduction on machine learning](https://github.com/thu-xd/Notes_on_ML/blob/master/01-Introduction/Introduction.ipynb)\n",
    "* 02-[Basic probability](https://github.com/thu-xd/Notes_on_ML/blob/master/02-Basic_probability/Probability.ipynb)\n",
    "* 03-[Basic information theory](http://localhost:8891/notebooks/03-Basic_information_theory/Information_theory.ipynb)\n",
    "\n",
    "# $\\S$Supervised learning\n",
    "### Generative Models\n",
    "* 04-[Naive bayes](https://github.com/thu-xd/Notes_on_ML/blob/master/04-Naive_Bayes/Naive%20Bayes.ipynb)\n",
    "* 05-[Gaussian discriminant analysis](https://github.com/thu-xd/Notes_on_ML/blob/master/05-Gaussian_discriminant_analysis/Gaussian_discriminant_analysis.ipynb)\n",
    "\n",
    "### Discriminative Models\n",
    "* 06-[Linear_regression](https://github.com/thu-xd/Notes_on_ML/blob/master/06-Linear_regression/Linear_regression.ipynb)\n",
    "* 07-[Logistic regression](https://github.com/thu-xd/Notes_on_ML/blob/master/07-Logistic_regression/Logistic_regression.ipynb)\n",
    "* 08-[Generalized linear models](https://github.com/thu-xd/Notes_on_ML/blob/master/08-Generalized_linear_models/Generalized_linear_models.ipynb)\n",
    "\n",
    "### Tree-based Models\n",
    "* 09-[Decision tree](https://github.com/thu-xd/Notes_on_ML/blob/master/09-Decision_tree/Decision%20Tree.ipynb)"
   ]
  }
 ],
 "metadata": {
  "kernelspec": {
   "display_name": "Python [default]",
   "language": "python",
   "name": "python3"
  },
  "language_info": {
   "codemirror_mode": {
    "name": "ipython",
    "version": 3
   },
   "file_extension": ".py",
   "mimetype": "text/x-python",
   "name": "python",
   "nbconvert_exporter": "python",
   "pygments_lexer": "ipython3",
   "version": "3.6.4"
  }
 },
 "nbformat": 4,
 "nbformat_minor": 2
}
